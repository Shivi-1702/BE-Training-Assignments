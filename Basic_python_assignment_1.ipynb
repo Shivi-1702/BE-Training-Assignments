{
  "nbformat": 4,
  "nbformat_minor": 0,
  "metadata": {
    "colab": {
      "provenance": []
    },
    "kernelspec": {
      "name": "python3",
      "display_name": "Python 3"
    },
    "language_info": {
      "name": "python"
    }
  },
  "cells": [
    {
      "cell_type": "code",
      "execution_count": null,
      "metadata": {
        "colab": {
          "base_uri": "https://localhost:8080/"
        },
        "id": "nzDY_4rxVZ5P",
        "outputId": "f14da744-61be-4c7b-abd8-5863bb1fc292"
      },
      "outputs": [
        {
          "output_type": "execute_result",
          "data": {
            "text/plain": [
              "14"
            ]
          },
          "metadata": {},
          "execution_count": 2
        }
      ],
      "source": [
        "4+10"
      ]
    },
    {
      "cell_type": "code",
      "source": [
        "a= 99;\n",
        "b= 5.5;\n",
        "c= \"shivani\";\n",
        "d= True;\n",
        "print(type(a));\n",
        "print(type(b));\n",
        "print(type(c));\n",
        "print(type(d));\n",
        "print(a+b);\n",
        "print(a-b);\n",
        "print(a*b);\n",
        "print(a/b);\n",
        "print(a>b);\n",
        "print(a==b);\n",
        "print(a<=b);\n",
        "print(a!=b);"
      ],
      "metadata": {
        "colab": {
          "base_uri": "https://localhost:8080/"
        },
        "id": "uE7yl4cPWu-7",
        "outputId": "3c7f1a5a-aca8-4ce9-8111-c42d8ac86607"
      },
      "execution_count": null,
      "outputs": [
        {
          "output_type": "stream",
          "name": "stdout",
          "text": [
            "<class 'int'>\n",
            "<class 'float'>\n",
            "<class 'str'>\n",
            "<class 'bool'>\n",
            "104.5\n",
            "93.5\n",
            "544.5\n",
            "18.0\n",
            "True\n",
            "False\n",
            "False\n",
            "True\n"
          ]
        }
      ]
    },
    {
      "cell_type": "code",
      "source": [
        "import pandas as pd\n",
        "shivani=pd.read_csv('Mall_Customers.csv')\n",
        "print(shivani)"
      ],
      "metadata": {
        "id": "rW0t-XAUXIlN",
        "colab": {
          "base_uri": "https://localhost:8080/"
        },
        "outputId": "4828caad-e986-4b30-f337-63915acc9549"
      },
      "execution_count": null,
      "outputs": [
        {
          "output_type": "stream",
          "name": "stdout",
          "text": [
            "     CustomerID   Genre  Age  Annual Income (k$)  Spending Score (1-100)\n",
            "0             1    Male   19                  15                      39\n",
            "1             2    Male   21                  15                      81\n",
            "2             3  Female   20                  16                       6\n",
            "3             4  Female   23                  16                      77\n",
            "4             5  Female   31                  17                      40\n",
            "..          ...     ...  ...                 ...                     ...\n",
            "195         196  Female   35                 120                      79\n",
            "196         197  Female   45                 126                      28\n",
            "197         198    Male   32                 126                      74\n",
            "198         199    Male   32                 137                      18\n",
            "199         200    Male   30                 137                      83\n",
            "\n",
            "[200 rows x 5 columns]\n"
          ]
        }
      ]
    }
  ]
}